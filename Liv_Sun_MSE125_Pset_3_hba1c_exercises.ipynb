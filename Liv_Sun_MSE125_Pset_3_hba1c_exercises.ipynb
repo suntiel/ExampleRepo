{
  "cells": [
    {
      "cell_type": "markdown",
      "metadata": {
        "id": "view-in-github",
        "colab_type": "text"
      },
      "source": [
        "<a href=\"https://colab.research.google.com/github/suntiel/ExampleRepo/blob/main/Liv_Sun_MSE125_Pset_3_hba1c_exercises.ipynb\" target=\"_parent\"><img src=\"https://colab.research.google.com/assets/colab-badge.svg\" alt=\"Open In Colab\"/></a>"
      ]
    },
    {
      "cell_type": "markdown",
      "metadata": {
        "id": "rYxKDMr4kaKB"
      },
      "source": [
        "# 🩸 HW3 Lab: Blood glucose and the bootstrap"
      ]
    },
    {
      "cell_type": "markdown",
      "metadata": {
        "tags": [],
        "id": "ZH46s_jekaKD"
      },
      "source": [
        "<img src=\"https://github.com/joshuagrossman/mse125-labs-public/blob/main/week3/img/cgm.jpeg?raw=1\" alt= “cgm” width=\"400\" />"
      ]
    },
    {
      "cell_type": "markdown",
      "metadata": {
        "tags": [],
        "id": "ZcaUWnmGkaKD"
      },
      "source": [
        "## ✅ Setup and data import\n",
        "In this lab, we will work with blood glucose data from 100 patients with diabetes.\n",
        "The data are derived from [public datasets](https://public.jaeb.org/datasets/diabetes) provided by the Jaeb Center for Health Research."
      ]
    },
    {
      "cell_type": "code",
      "execution_count": null,
      "metadata": {
        "id": "XX4ajUuIkaKE",
        "colab": {
          "base_uri": "https://localhost:8080/",
          "height": 537
        },
        "outputId": "77f36861-5bf8-4f2a-d246-88f477fe270f"
      },
      "outputs": [
        {
          "output_type": "stream",
          "name": "stderr",
          "text": [
            "\u001b[1mRows: \u001b[22m\u001b[34m100\u001b[39m \u001b[1mColumns: \u001b[22m\u001b[34m4\u001b[39m\n",
            "\u001b[36m──\u001b[39m \u001b[1mColumn specification\u001b[22m \u001b[36m────────────────────────────────────────────────────────\u001b[39m\n",
            "\u001b[1mDelimiter:\u001b[22m \",\"\n",
            "\u001b[32mdbl\u001b[39m (4): id, a1c_value, mean_bg, time_in_range\n",
            "\n",
            "\u001b[36mℹ\u001b[39m Use `spec()` to retrieve the full column specification for this data.\n",
            "\u001b[36mℹ\u001b[39m Specify the column types or set `show_col_types = FALSE` to quiet this message.\n"
          ]
        },
        {
          "output_type": "display_data",
          "data": {
            "text/html": [
              "<table class=\"dataframe\">\n",
              "<caption>A spec_tbl_df: 10 × 4</caption>\n",
              "<thead>\n",
              "\t<tr><th scope=col>id</th><th scope=col>a1c_value</th><th scope=col>mean_bg</th><th scope=col>time_in_range</th></tr>\n",
              "\t<tr><th scope=col>&lt;dbl&gt;</th><th scope=col>&lt;dbl&gt;</th><th scope=col>&lt;dbl&gt;</th><th scope=col>&lt;dbl&gt;</th></tr>\n",
              "</thead>\n",
              "<tbody>\n",
              "\t<tr><td>69</td><td> 8.9</td><td>163</td><td>0.60</td></tr>\n",
              "\t<tr><td>59</td><td> 8.3</td><td>235</td><td>0.21</td></tr>\n",
              "\t<tr><td>50</td><td> 6.5</td><td>123</td><td>0.69</td></tr>\n",
              "\t<tr><td>64</td><td> 7.0</td><td>158</td><td>0.65</td></tr>\n",
              "\t<tr><td>61</td><td> 7.7</td><td>122</td><td>0.46</td></tr>\n",
              "\t<tr><td>65</td><td> 6.9</td><td>154</td><td>0.64</td></tr>\n",
              "\t<tr><td> 9</td><td> 9.3</td><td>237</td><td>0.26</td></tr>\n",
              "\t<tr><td> 7</td><td> 9.8</td><td>200</td><td>0.41</td></tr>\n",
              "\t<tr><td>11</td><td>10.9</td><td>271</td><td>0.10</td></tr>\n",
              "\t<tr><td>35</td><td> 6.2</td><td>138</td><td>0.67</td></tr>\n",
              "</tbody>\n",
              "</table>\n"
            ],
            "text/markdown": "\nA spec_tbl_df: 10 × 4\n\n| id &lt;dbl&gt; | a1c_value &lt;dbl&gt; | mean_bg &lt;dbl&gt; | time_in_range &lt;dbl&gt; |\n|---|---|---|---|\n| 69 |  8.9 | 163 | 0.60 |\n| 59 |  8.3 | 235 | 0.21 |\n| 50 |  6.5 | 123 | 0.69 |\n| 64 |  7.0 | 158 | 0.65 |\n| 61 |  7.7 | 122 | 0.46 |\n| 65 |  6.9 | 154 | 0.64 |\n|  9 |  9.3 | 237 | 0.26 |\n|  7 |  9.8 | 200 | 0.41 |\n| 11 | 10.9 | 271 | 0.10 |\n| 35 |  6.2 | 138 | 0.67 |\n\n",
            "text/latex": "A spec\\_tbl\\_df: 10 × 4\n\\begin{tabular}{llll}\n id & a1c\\_value & mean\\_bg & time\\_in\\_range\\\\\n <dbl> & <dbl> & <dbl> & <dbl>\\\\\n\\hline\n\t 69 &  8.9 & 163 & 0.60\\\\\n\t 59 &  8.3 & 235 & 0.21\\\\\n\t 50 &  6.5 & 123 & 0.69\\\\\n\t 64 &  7.0 & 158 & 0.65\\\\\n\t 61 &  7.7 & 122 & 0.46\\\\\n\t 65 &  6.9 & 154 & 0.64\\\\\n\t  9 &  9.3 & 237 & 0.26\\\\\n\t  7 &  9.8 & 200 & 0.41\\\\\n\t 11 & 10.9 & 271 & 0.10\\\\\n\t 35 &  6.2 & 138 & 0.67\\\\\n\\end{tabular}\n",
            "text/plain": [
              "   id a1c_value mean_bg time_in_range\n",
              "1  69  8.9      163     0.60         \n",
              "2  59  8.3      235     0.21         \n",
              "3  50  6.5      123     0.69         \n",
              "4  64  7.0      158     0.65         \n",
              "5  61  7.7      122     0.46         \n",
              "6  65  6.9      154     0.64         \n",
              "7   9  9.3      237     0.26         \n",
              "8   7  9.8      200     0.41         \n",
              "9  11 10.9      271     0.10         \n",
              "10 35  6.2      138     0.67         "
            ]
          },
          "metadata": {}
        }
      ],
      "source": [
        "# Load in additional functions\n",
        "library(tidyverse)\n",
        "library(lubridate)\n",
        "\n",
        "# Use three digits past the decimal point\n",
        "options(digits = 3)\n",
        "\n",
        "# Format plots with a white background and dark features.\n",
        "theme_set(theme_bw())\n",
        "\n",
        "# Increase the default text size of plots.\n",
        "# If you are *not* working in Google Colab, we recommend commenting\n",
        "# out this line of code.\n",
        "theme_update(text = element_text(size = 20))\n",
        "\n",
        "# Increase the default plot width and height.\n",
        "# If you are *not* working in Google Colab, we recommend commenting\n",
        "# out this line of code.\n",
        "options(repr.plot.width=12, repr.plot.height=8)\n",
        "\n",
        "# Load in the data\n",
        "data = read_csv(\"https://jdgrossman.com/assets/hba1c-cgm-data.csv\")\n",
        "\n",
        "# peek at 10 random rows\n",
        "sample_n(data, 10)"
      ]
    },
    {
      "cell_type": "markdown",
      "metadata": {
        "id": "D1NxEh2KkaKF"
      },
      "source": [
        "## 🩸 Background info on blood glucose, HbA1c, and CGMs"
      ]
    },
    {
      "cell_type": "markdown",
      "metadata": {
        "id": "FU3BLGuckaKF"
      },
      "source": [
        "[Diabetes mellitus](https://en.wikipedia.org/wiki/Diabetes) is a group of diseases characterized by an inability of the body to properly maintain healthy blood glucose levels.\n",
        "Having high blood glucose for long periods of time can lead to [serious health complications](https://www.cdc.gov/diabetes/managing/problems.html), such as nerve damage and heart disease.\n",
        "\n",
        "The [glycated hemoglobin (HbA1c)](https://en.wikipedia.org/wiki/Glycated_hemoglobin) test was introduced in the late 1970s as a way to monitor long-term trends in blood glucose levels.\n",
        "HbA1c values above 6.4% are typically indicative of diabetes.\n",
        "Values above 7% are associated with long-term complications, with higher values associated with more severe complications.\n",
        "Patients with diabetes are typically instructed to have their blood drawn every three months to monitor their HbA1c.\n",
        "\n",
        "[Continuous glucose monitors (CGMs)](https://en.wikipedia.org/wiki/Continuous_glucose_monitor) allow patients with diabetes to see a real-time output of their blood glucose levels.\n",
        "The picture at the top of this lab is an example of a CGM.\n",
        "The first CGM was introduced in 1999, but CGM adoption did not begin to accelerate until about 10 years later.\n",
        "Thus, HbA1c measurement is still the gold standard for predicting long-term health outcomes in patients with diabetes, as there simply has not been as much time for CGM measurements to be formally correlated with longer-term health outcomes.\n",
        "\n",
        "> To see Josh's current CGM output, visit [this website](https://jgrossman-new.herokuapp.com).\n",
        "\n",
        "In this lab, you will assess the relationship between CGM output and HbA1c among a sample of 100 patients.\n",
        "For each patient, you have the following data:\n",
        "\n",
        "1. `a1c_value`: An HbA1c measurement. HbA1c is often abbreviated as A1c.\n",
        "2. `mean_bg`: The patient's CGM-measured average blood glucose (BG) in the timeframe before their HbA1c was measured.\n",
        "3. `time_in_range`: The proportion of CGM blood glucose measurements that were in the healthy range of 70 mg/dL to 180 mg/dL. Often abbreviated as TIR.\n",
        "\n",
        "For the purposes of this assignment, you can assume that the 100 patients in the data were randomly drawn from the same population."
      ]
    },
    {
      "cell_type": "markdown",
      "metadata": {
        "tags": [],
        "id": "tH1CnBmUkaKF"
      },
      "source": [
        "### 🚀 Exercise 1"
      ]
    },
    {
      "cell_type": "markdown",
      "metadata": {
        "id": "H1UujdM9kaKF"
      },
      "source": [
        "First, write a function called `get_sample_mean_ci` that constructs a normally-approximated analytic confidence interval for a population mean.\n",
        "\n",
        "> You should also write and call a helper function called `get_z_crit` that calculates the $z_{\\alpha/2}$ value corresponding to a given level of confidence.\n",
        "\n",
        "`get_sample_mean_ci` should take the following inputs:\n",
        "\n",
        "1. `x`: a vector of the values in the sample\n",
        "2. `cl`: the desired confidence level, expressed as a proportion between 0 and 1\n",
        "\n",
        "The function should return a two-element vector with the lower and upper bounds of your confidence interval.\n",
        "\n",
        "Using `get_sample_mean_ci` to construct a 95% confidence interval for the the average HbA1c of the population."
      ]
    },
    {
      "cell_type": "code",
      "execution_count": null,
      "metadata": {
        "id": "n1oXLXATkaKG",
        "colab": {
          "base_uri": "https://localhost:8080/"
        },
        "outputId": "0daa186f-b651-4ae7-e3d1-6a40266ca478"
      },
      "outputs": [
        {
          "output_type": "stream",
          "name": "stdout",
          "text": [
            "[1] \"confidence interval:\"\n",
            "[1] 7.59 8.15\n",
            "\u001b[90m# A tibble: 100 × 4\u001b[39m\n",
            "      id a1c_value mean_bg time_in_range\n",
            "   \u001b[3m\u001b[90m<dbl>\u001b[39m\u001b[23m     \u001b[3m\u001b[90m<dbl>\u001b[39m\u001b[23m   \u001b[3m\u001b[90m<dbl>\u001b[39m\u001b[23m         \u001b[3m\u001b[90m<dbl>\u001b[39m\u001b[23m\n",
            "\u001b[90m 1\u001b[39m     1       7.8     151          0.64\n",
            "\u001b[90m 2\u001b[39m     2       7.6     177          0.5 \n",
            "\u001b[90m 3\u001b[39m     3       7.5     158          0.54\n",
            "\u001b[90m 4\u001b[39m     4       7.2     166          0.63\n",
            "\u001b[90m 5\u001b[39m     5       9.1     250          0.17\n",
            "\u001b[90m 6\u001b[39m     6       8.9     183          0.51\n",
            "\u001b[90m 7\u001b[39m     7       9.8     200          0.41\n",
            "\u001b[90m 8\u001b[39m     8       8.7     180          0.57\n",
            "\u001b[90m 9\u001b[39m     9       9.3     237          0.26\n",
            "\u001b[90m10\u001b[39m    10      10.1     269          0.19\n",
            "\u001b[90m# ℹ 90 more rows\u001b[39m\n"
          ]
        }
      ],
      "source": [
        "# Constructing a 95% conf interval for A1c\n",
        "get_z_crit = function(conf_level) {\n",
        "  alpha = 1 - conf_level\n",
        "  z = qnorm(1 - alpha / 2)\n",
        "  return(z)\n",
        "\n",
        "}\n",
        "\n",
        "get_sample_mean_ci = function(x, conf_level) {\n",
        "  xbar = mean(x)\n",
        "  sd = sd(x)\n",
        "  n = length(x)\n",
        "  z = get_z_crit(conf_level)\n",
        "  moe = z * (sd / sqrt(n))\n",
        "  lower <- xbar - moe\n",
        "  upper <- xbar + moe\n",
        "  return(c(lower, upper))\n",
        "}\n",
        "\n",
        "conf_level = 0.95\n",
        "\n",
        "conf_interval = get_sample_mean_ci(data$a1c_value, conf_level)\n",
        "print(\"confidence interval:\")\n",
        "print(conf_interval)\n",
        "\n",
        "print(data)\n"
      ]
    },
    {
      "cell_type": "markdown",
      "metadata": {
        "id": "ov8e4ROOkaKG"
      },
      "source": [
        "### 🚀 Exercise 2"
      ]
    },
    {
      "cell_type": "markdown",
      "metadata": {
        "id": "0ygM4Wf1kaKG"
      },
      "source": [
        "(a) Write a function `generate_boot_estimates` to generate `B` bootstrapped synthetic estimates given a sample of data and an estimator.\n",
        "\n",
        "Your function should take the following inputs:\n",
        "\n",
        "1. `x`: a vector of the values in the sample\n",
        "2. `B`: the number of synthetic estimates to generate\n",
        "3. `f`: a function that converts a vector of values into an estimate. For example, if your estimator is the median, you would pass `f=median` into your function.\n",
        "\n",
        "Using your function and the patient data, generate 10,000 synthetic estimates of the sample mean HbA1c.\n",
        "\n",
        "> **Do not print all 10,000 estimates**. Just print the first 10."
      ]
    },
    {
      "cell_type": "code",
      "execution_count": null,
      "metadata": {
        "id": "CWRMaq3ekaKG",
        "colab": {
          "base_uri": "https://localhost:8080/"
        },
        "outputId": "3d9b9e90-e1a3-4842-a062-177adedefea9"
      },
      "outputs": [
        {
          "output_type": "stream",
          "name": "stdout",
          "text": [
            "[1] \"The first 10 synthetic estimates are \"\n",
            " [1] 8.15 7.80 7.69 7.70 7.86 7.87 8.02 8.20 7.65 7.92\n"
          ]
        }
      ],
      "source": [
        "# Making synthetic estimates of A1C using bootstrapping\n",
        "\n",
        "# Generate one sample\n",
        "boot_indices = sample(nrow(data), 100, replace = TRUE)\n",
        "boot_sample = data[boot_indices, ]\n",
        "# print(\"One bootstrap sample:\")\n",
        "# print(boot_sample)\n",
        "\n",
        "a1c_sample_vector = boot_sample$a1c_value\n",
        "# print(a1c_sample_vector)\n",
        "\n",
        "# Generate 10000 estimates off the sample.\n",
        "generate_boot_estimates = function(x, B, f) {\n",
        "  synth_est_vector = replicate(B, f(sample(x, 100, replace = TRUE)))\n",
        "  # Return the synthetic estimates.\n",
        "  return(synth_est_vector)\n",
        "}\n",
        "\n",
        "# Generate 10000 estimates\n",
        "df_vector = generate_boot_estimates(a1c_sample_vector, 10000, mean)\n",
        "\n",
        "# Print just the first 10 synthetic estimates\n",
        "print(\"The first 10 synthetic estimates are \")\n",
        "print(df_vector[0:10])"
      ]
    },
    {
      "cell_type": "markdown",
      "metadata": {
        "id": "ahhJt0cfkaKG"
      },
      "source": [
        "(b) In no more than two sentences, explain the purpose of generating these 10,000 synthetic estimates."
      ]
    },
    {
      "cell_type": "markdown",
      "metadata": {
        "id": "7DJa724ukaKG"
      },
      "source": [
        "\n",
        "\n",
        "```\n",
        "# This is formatted as code\n",
        "```\n",
        "\n",
        "---\n",
        "📝\n",
        "These 10,000 synthetic estimates, each one representing a (synthetic) parallel universe. From here we can create a boostrapped sampling distribution to estimate the standard error.\n",
        "\n",
        "\n",
        "---"
      ]
    },
    {
      "cell_type": "markdown",
      "metadata": {
        "id": "o06Mf_56kaKG"
      },
      "source": [
        "### 🚀 Exercise 3\n",
        "\n",
        "(a) Write a function `get_bootstrap_ci` to compute a normally-approximated bootstrapped confidence interval and a bootstrapped percentile confidence interval.\n",
        "\n",
        "- `get_bootstrap_ci` should call the `generate_boot_estimates` function from above.\n",
        "\n",
        "- `get_bootstrap_ci` should return a two-element list. The first list element should be the normally-approximated interval, and the second list element should be the percentile confidence interval. Each list element should be a two-element vector with the lower and upper bounds of the interval.\n",
        "\n",
        "- You may find it helpful to ask ChatGPT or another LLM about the difference between vectors and lists in `R`.\n",
        "\n",
        "Your function should take the following inputs:\n",
        "\n",
        "1. `x`: a vector of values from the sample\n",
        "2. `B`: the number of synthetic estimates to generate\n",
        "3. `f`: a function that converts a vector of values into an estimate.\n",
        "2. `cl`: the desired confidence level, expressed as a proportion between 0 and 1\n",
        "\n",
        "Using your function, compute a normally-approximated bootstrapped confidence interval and a percentile confidence interval for the population mean HbA1c."
      ]
    },
    {
      "cell_type": "code",
      "execution_count": null,
      "metadata": {
        "id": "WgLJEjRfkaKG",
        "colab": {
          "base_uri": "https://localhost:8080/",
          "height": 114
        },
        "outputId": "fe68e852-8c9c-403e-e642-d2bba59d309f"
      },
      "outputs": [
        {
          "output_type": "display_data",
          "data": {
            "text/html": [
              "<dl>\n",
              "\t<dt>$norm_ci</dt>\n",
              "\t\t<dd><style>\n",
              ".list-inline {list-style: none; margin:0; padding: 0}\n",
              ".list-inline>li {display: inline-block}\n",
              ".list-inline>li:not(:last-child)::after {content: \"\\00b7\"; padding: 0 .5ex}\n",
              "</style>\n",
              "<ol class=list-inline><li>7.82688082419435</li><li>7.84414317580565</li></ol>\n",
              "</dd>\n",
              "\t<dt>$percentile_ci</dt>\n",
              "\t\t<dd><style>\n",
              ".dl-inline {width: auto; margin:0; padding: 0}\n",
              ".dl-inline>dt, .dl-inline>dd {float: none; width: auto; display: inline-block}\n",
              ".dl-inline>dt::after {content: \":\\0020\"; padding-right: .5ex}\n",
              ".dl-inline>dt:not(:first-of-type) {padding-left: .5ex}\n",
              "</style><dl class=dl-inline><dt>2.5%</dt><dd>7.816002</dd><dt>97.5%</dt><dd>7.8585505</dd></dl>\n",
              "</dd>\n",
              "</dl>\n"
            ],
            "text/markdown": "$norm_ci\n:   1. 7.82688082419435\n2. 7.84414317580565\n\n\n\n$percentile_ci\n:   2.5%\n:   7.81600297.5%\n:   7.8585505\n\n\n\n\n",
            "text/latex": "\\begin{description}\n\\item[\\$norm\\_ci] \\begin{enumerate*}\n\\item 7.82688082419435\n\\item 7.84414317580565\n\\end{enumerate*}\n\n\\item[\\$percentile\\_ci] \\begin{description*}\n\\item[2.5\\textbackslash{}\\%] 7.816002\n\\item[97.5\\textbackslash{}\\%] 7.8585505\n\\end{description*}\n\n\\end{description}\n",
            "text/plain": [
              "$norm_ci\n",
              "[1] 7.83 7.84\n",
              "\n",
              "$percentile_ci\n",
              " 2.5% 97.5% \n",
              " 7.82  7.86 \n"
            ]
          },
          "metadata": {}
        }
      ],
      "source": [
        "get_bootstrap_ci = function(x, B, f, cl) {\n",
        "  # Define generate_boot_estimates to generate bootstrap estimates\n",
        "  boot_vector = generate_boot_estimates(x, B, f)\n",
        "\n",
        "  # Calculate normally approximated bootstrapped CI\n",
        "  norm_ci = get_sample_mean_ci(boot_vector, cl)\n",
        "\n",
        "  # Calculate percentile CI\n",
        "  percentile_ci = quantile(boot_vector, c(((1 - cl)/2), 1 - ((1 - cl)/2))) # finding 0.025 and 0.975 bounds\n",
        "\n",
        "  # Create a list containing both types of confidence intervals\n",
        "  result_list = list(norm_ci = norm_ci, percentile_ci = percentile_ci)\n",
        "\n",
        "  return(result_list)\n",
        "}\n",
        "\n",
        "# Example\n",
        "get_bootstrap_ci(df_vector, 10, mean, 0.95)\n",
        "\n"
      ]
    },
    {
      "cell_type": "markdown",
      "metadata": {
        "id": "xFFhAYMSkaKG"
      },
      "source": [
        "(b) In 1-2 sentences, compare the two bootstrapped confidence intervals and the analytic confidence interval computed in Exercise 1. Provide a justification as to why your three intervals are similar or different."
      ]
    },
    {
      "cell_type": "markdown",
      "metadata": {
        "id": "0WYTFBm-kaKG"
      },
      "source": [
        "---\n",
        "📝 Write your answer to Exercise 3b here.\n",
        "\n",
        "The intervals for the two boostrapped CIs that I just computed are smaller in range, and closer to each other in value, than the analytic CI from Exercise 1.\n",
        "\n",
        "Bootstrapping captures the variability in the data more accurately, especially when the underlying distribution is not normal or the sample size is small. Analytic confidence interval is less reliable here because it conditions on CLT -- mostly the assumption of normality --being true.\n",
        "\n",
        "\n",
        "---"
      ]
    },
    {
      "cell_type": "markdown",
      "metadata": {
        "id": "SgziuZy-kaKG"
      },
      "source": [
        "### 🚀 Exercise 4"
      ]
    },
    {
      "cell_type": "markdown",
      "metadata": {
        "id": "kGPb3GMNkaKG"
      },
      "source": [
        "(a) Make two nicely-formatted plots. Each point on your plot should represent one patient.\n",
        "\n",
        "- Both plots should have HbA1c on the y-axis.\n",
        "\n",
        "- The first plot should have mean blood glucose on the x-axis.\n",
        "\n",
        "- The second plot should have time in range on the x-axis.\n",
        "\n",
        "- The axis labels should indicate the units of each measurement. Make sure to read the background information above to identify the units."
      ]
    },
    {
      "cell_type": "code",
      "execution_count": null,
      "metadata": {
        "id": "760RTEw3kaKG",
        "colab": {
          "base_uri": "https://localhost:8080/",
          "height": 977
        },
        "outputId": "9cb246f0-30f9-4edf-a50a-b0b1b6a1986d"
      },
      "outputs": [
        {
          "output_type": "display_data",
          "data": {
            "text/plain": [
              "plot without title"
            ],
            "image/png": "[encoded data removed]"
          },
          "metadata": {
            "image/png": {
              "width": 720,
              "height": 480
            }
          }
        },
        {
          "output_type": "display_data",
          "data": {
            "text/plain": [
              "plot without title"
            ],
            "image/png": "[encoded data removed]"
          },
          "metadata": {
            "image/png": {
              "width": 720,
              "height": 480
            }
          }
        }
      ],
      "source": [
        "# Your code here!\n",
        "# Plot 1: glucose (x) to A1C (y)\n",
        "\n",
        "ggplot(data, aes(data$mean_bg, y = data$a1c_value)) +\n",
        "  geom_point() +\n",
        "  labs(\n",
        "    title = \"100 Patients' Blood Glucose and HbA1C Measurements\",\n",
        "    x = \"CGM-measured average Blood Glucose (mg/dL)\",\n",
        "    y = \"HbA1c measurement (%)\")\n",
        "\n",
        "# Plot 2: time in range (x) to A1C (y)\n",
        "\n",
        "ggplot(data, aes(data$time_in_range, y = data$a1c_value)) +\n",
        "  geom_point() +\n",
        "  labs(\n",
        "    title = \"100 Patients' TIR and HbA1C Measurements\",\n",
        "    x = \"Proportion of BG measurement in healthy range (TIR)\",\n",
        "   y = \"HbA1c measurement (%)\")\n",
        "  # scale_y_continuous(breaks = seq(0, 12, by = 1), labels = seq(0, 12, by = 1)) +\n",
        "  # scale_x_continuous(breaks = seq(0, 350, by = 25), labels = seq(0, 350, by = 25))\n",
        "\n",
        "\n",
        "\n",
        "\n",
        "\n",
        "  # theme_minimal() +\n",
        "  # theme(panel.grid.major.x = element_blank(), panel.grid.minor.x = element_blank()) +"
      ]
    },
    {
      "cell_type": "markdown",
      "metadata": {
        "id": "Li93lJuDkaKG"
      },
      "source": [
        "(b) In 1-2 sentences, describe any patterns you observe in your plots."
      ]
    },
    {
      "cell_type": "markdown",
      "metadata": {
        "id": "wzUDgYSKkaKH"
      },
      "source": [
        "---\n",
        "📝 Write your answer to Exercise 4b here.\n",
        "\n",
        "Blood glucose and HBA1C are positively correlated,  TIR and HBA1C are negatively correlated, and both plots seem somewhat linear. This makes sense because higher amounts of blood glucose suggest that a lesser proportion is in the (low) healthy range, both of which are correlated with a higher percentage of HBA1C measurement.\n",
        "\n",
        "\n",
        "---"
      ]
    },
    {
      "cell_type": "markdown",
      "metadata": {
        "id": "b_iw6wkfkaKH"
      },
      "source": [
        "### 🎶 Interlude: Lines of best fit"
      ]
    },
    {
      "cell_type": "markdown",
      "metadata": {
        "id": "hDTLkXFEkaKH"
      },
      "source": [
        "Using a pencil, you could likely draw a [line of best fit](https://en.wiktionary.org/wiki/line_of_best_fit) on the plots above.\n",
        "\n",
        "But, how could we mathematically define the best-fitting line? One approach is to minimize the sum of squared vertical distances from each point to the line.\n",
        "\n",
        "🖼️ Here's a picture:\n",
        "\n",
        "<img src=\"https://github.com/joshuagrossman/mse125-labs-public/blob/main/week3/img/minimize-sum-of-squares.png?raw=1\" alt= \"minimize sum of squares\" width=\"400\" />\n",
        "\n",
        "In other words, we want to choose the slope and intercept values that minimize the total area of all of the dotted squares.\n",
        "\n",
        "Here is the same statement expressed mathematically:\n",
        "\n",
        "$$ \\underset{\\text{slope}, \\text{intercept}}{\\mathrm{arg\\,min}} \\sum_{i=1}^n \\left(y_i - (\\text{slope}*x_i + \\text{intercept}) \\right)^2 ,$$\n",
        "\n",
        "where $(x_i, y_i)$ represent the coordinates of each observation $i$.\n",
        "\n",
        "By taking partial derivatives with respect to the $\\text{slope}$ and $\\text{intercept}$ parameters, we can show the following formulas provide the optimal slope and intercept:\n",
        "\n",
        "$$ \\text{slope}_\\text{optimal} = \\frac{\\sum_{i=1}^n (x_i - \\bar{x})(y_i - \\bar{y})}{\\sum_{i=1}^n (x_i - \\bar{x})^2} $$\n",
        "\n",
        "$$ \\text{intercept}_\\text{optimal} = \\bar{y} - \\text{slope}_\\text{optimal} * \\bar{x} $$"
      ]
    },
    {
      "cell_type": "markdown",
      "metadata": {
        "id": "7YvlDFFCkaKH"
      },
      "source": [
        "### 🚀 Exercise 5"
      ]
    },
    {
      "cell_type": "markdown",
      "metadata": {
        "id": "5rAbBVxOkaKH"
      },
      "source": [
        "Write a function `get_optimal_slope` to compute the optimal slope parameter given inputted data.\n",
        "\n",
        "> Your function should implement the formula above. Do you not use an outside function like `lm` to calculate the optimal slope.\n",
        ">\n",
        "> Optional exercise: You could also write a function `get_optimal_intercept`.\n",
        "\n",
        "`get_optimal_slope` should take the following input:\n",
        "\n",
        "1. `coords`: a list of (x,y) coordinates, with each element corresponding to one data point.\n",
        "\n",
        "> You may find the `map2` function helpful for \"zipping\" a vector of x-coordinates and a vector of y-coordinates into a list of (x,y) coordinates.\n",
        ">\n",
        "> The `map` function may also come in handy for extracting a vector of just the x coordinates from a list of (x,y) coordinates.\n",
        ">\n",
        "> You may find it helpful to ask ChatGPT or another LLM for some helpful examples of using `map` and `map2`.\n",
        "\n",
        "Using your function, identify the optimal slope for each the two plots from Exercise 4."
      ]
    },
    {
      "cell_type": "code",
      "execution_count": null,
      "metadata": {
        "id": "9ZUsh-ypkaKH"
      },
      "outputs": [],
      "source": [
        "# get_optimal_slope\n",
        "# inputs is coords: a list of (x, y) coordinates\n",
        "\n",
        "get_optimal_slope = function(coords) {\n",
        "\n",
        "}\n",
        "\n",
        "get_optimal_slope(coor)\n",
        "# using the function to find the slopes of 2 earlier plots\n",
        "get_optimal_slope()\n"
      ]
    },
    {
      "cell_type": "markdown",
      "metadata": {
        "id": "R2_8W8BjkaKH"
      },
      "source": [
        "### 🚀  Exercise 6\n",
        "\n",
        "Using a combination of the functions you have written above, and any additional code you might need, compute 95% bootstrapped normal and percentile confidence-intervals for the optimal slope of each plot from Exercise 4.\n",
        "\n",
        "In total, you should have four confidence intervals.\n"
      ]
    },
    {
      "cell_type": "code",
      "execution_count": null,
      "metadata": {
        "id": "gAS2Sv5ekaKH"
      },
      "outputs": [],
      "source": [
        "# Your code here!\n",
        "\n"
      ]
    },
    {
      "cell_type": "markdown",
      "metadata": {
        "jp-MarkdownHeadingCollapsed": true,
        "tags": [],
        "id": "UOqKuqaHkaKH"
      },
      "source": [
        "### 🚀 Exercise 7\n",
        "\n",
        "Based on your results from this entire lab, would you be comfortable allowing patients with diabetes to skip having their HbA1c recorded, and instead use your lines of best fit to predict their HbA1c every three months? If yes, why? If not, would you use your line of best fit for any other purpose? Answer in no more than five sentences.\n",
        "\n",
        "Hint: You may find this [FAQ page](https://provider.dexcom.com/what-glucose-management-indicator-gmi) useful. You may also find it interesting to compare your optimal slope for mean glucose (and optimal intercept, if applicable) to the official glucose management indicator (GMI) formula on the same page. GMI is used in endocrinology clinics around the world to help patients interpret their CGM readings."
      ]
    },
    {
      "cell_type": "markdown",
      "metadata": {
        "id": "N0666xlGkaKH"
      },
      "source": [
        "---\n",
        "\n",
        "📝 Write your answer to Exercise 7 here.\n",
        "\n",
        "\n",
        "---"
      ]
    }
  ],
  "metadata": {
    "kernelspec": {
      "display_name": "R",
      "language": "R",
      "name": "ir"
    },
    "language_info": {
      "codemirror_mode": "r",
      "file_extension": ".r",
      "mimetype": "text/x-r-source",
      "name": "R",
      "pygments_lexer": "r",
      "version": "4.2.1"
    },
    "colab": {
      "provenance": [],
      "include_colab_link": true
    }
  },
  "nbformat": 4,
  "nbformat_minor": 0
}